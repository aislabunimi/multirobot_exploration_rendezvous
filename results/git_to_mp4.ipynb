{
 "cells": [
  {
   "cell_type": "code",
   "execution_count": 1,
   "metadata": {},
   "outputs": [],
   "source": [
    "import matplotlib.pyplot as plt\n",
    "import numpy as np\n",
    "import pandas as pd\n",
    "from shapely import LineString\n",
    "import moviepy.editor as mp\n",
    "from pygifsicle import optimize as optimize_gif\n",
    "import imageio\n",
    "import pickle\n",
    "import os"
   ]
  },
  {
   "cell_type": "code",
   "execution_count": 18,
   "metadata": {},
   "outputs": [],
   "source": [
    "def gif_to_mp4(file):\n",
    "    cmd = f'ffmpeg -i \"{file}\" -movflags faststart -pix_fmt yuv420p -vf \"scale=trunc(iw/2)*2:trunc(ih/2)*2\" \"{file.replace(\".gif\",\".mp4\")}\"'\n",
    "    check_file = file.replace('.gif','.mp4')\n",
    "    if os.path.isfile(check_file):\n",
    "        print(check_file)\n",
    "        os.remove(check_file)\n",
    "    os.system(f'{cmd} >/dev/null 2>&1')"
   ]
  },
  {
   "cell_type": "code",
   "execution_count": 21,
   "metadata": {},
   "outputs": [
    {
     "name": "stdout",
     "output_type": "stream",
     "text": [
      "./Campus-1/FBE/ex365.mp4\n",
      "./Campus-1/FBE/ex407.mp4\n",
      "./Campus-1/FBE/ex361.mp4\n",
      "./Campus-1/FBE/ex367.mp4\n",
      "./Campus-1/FBE/ex366.mp4\n",
      "./Campus-1/FBR/ex448.mp4\n",
      "./Campus-1/FBR/ex445.mp4\n",
      "./Campus-1/FBR/ex441.mp4\n",
      "./Campus-1/FBR/ex446.mp4\n",
      "./Intel/FBE/ex324.mp4\n",
      "./Intel/FBE/ex338.mp4\n",
      "./Intel/FBE/ex330.mp4\n",
      "./Intel/FBE/ex326.mp4\n",
      "./Intel/FBE/ex145.mp4\n",
      "./Intel/FBE/ex340.mp4\n",
      "./Intel/FBE/ex215.mp4\n",
      "./Intel/FBR/ex348.mp4\n",
      "./Intel/FBR/ex158.mp4\n",
      "./Intel/FBR/ex344.mp4\n",
      "./Intel/FBR/ex214.mp4\n",
      "./Campus-2/FBE/ex464.mp4\n",
      "./Campus-2/FBE/ex444.mp4\n",
      "./Campus-2/FBE/ex466.mp4\n",
      "./Campus-2/FBE/ex452.mp4\n",
      "./Campus-2/FBE/ex389.mp4\n",
      "./Campus-2/FBE/ex453.mp4\n",
      "./Campus-2/FBE/ex415.mp4\n",
      "./Campus-2/FBE/ex462.mp4\n",
      "./Campus-2/FBE/ex391.mp4\n",
      "./Campus-2/FBE/ex465.mp4\n",
      "./Campus-2/FBR/ex438.mp4\n",
      "./Campus-2/FBR/ex475.mp4\n",
      "./Campus-2/FBR/ex422.mp4\n",
      "./Campus-2/FBR/ex426.mp4\n",
      "./Campus-2/FBR/ex419.mp4\n",
      "./Campus-2/FBR/ex472.mp4\n",
      "./Campus-2/FBR/ex429.mp4\n",
      "./Campus-2/FBR/ex436.mp4\n",
      "./Campus-2/FBR/ex480.mp4\n",
      "./Campus-2/FBR/ex432.mp4\n"
     ]
    }
   ],
   "source": [
    "def all_file(path,func):\n",
    "    for f in os.listdir(path):\n",
    "        new_path = f'{path}/{f}'\n",
    "        if os.path.isfile(new_path): \n",
    "            if f.endswith('.gif'): func(new_path)\n",
    "        else: all_file(new_path,func)\n",
    "\n",
    "all_file(\".\",gif_to_mp4)"
   ]
  }
 ],
 "metadata": {
  "kernelspec": {
   "display_name": "Python 3",
   "language": "python",
   "name": "python3"
  },
  "language_info": {
   "codemirror_mode": {
    "name": "ipython",
    "version": 3
   },
   "file_extension": ".py",
   "mimetype": "text/x-python",
   "name": "python",
   "nbconvert_exporter": "python",
   "pygments_lexer": "ipython3",
   "version": "3.8.10"
  }
 },
 "nbformat": 4,
 "nbformat_minor": 2
}
